{
  "nbformat": 4,
  "nbformat_minor": 0,
  "metadata": {
    "colab": {
      "provenance": []
    },
    "kernelspec": {
      "name": "python3",
      "display_name": "Python 3"
    },
    "language_info": {
      "name": "python"
    }
  },
  "cells": [
    {
      "cell_type": "markdown",
      "source": [
        "1. What is the role of the 'else' block in a try-except statement? Provide an example\n",
        "scenario where it would be useful."
      ],
      "metadata": {
        "id": "swOD00ghd9Jj"
      }
    },
    {
      "cell_type": "markdown",
      "source": [
        "In a try-except statement, the 'else' block is optional and provides a block of code that is executed if no exceptions are raised in the try block. Its purpose is to specify the code that should be executed when the try block completes successfully, without any exceptions being raised"
      ],
      "metadata": {
        "id": "sBTVsOICfCzw"
      }
    },
    {
      "cell_type": "code",
      "source": [
        "try:\n",
        "    numerator = int(input(\"Enter the numerator: \"))\n",
        "    denominator = int(input(\"Enter the denominator: \"))\n",
        "    result = numerator / denominator\n",
        "except ValueError:\n",
        "    print(\"Please enter valid integers for numerator and denominator.\")\n",
        "except ZeroDivisionError:\n",
        "    print(\"Cannot divide by zero.\")\n",
        "else:\n",
        "    print(\"The division result is:\", result)\n"
      ],
      "metadata": {
        "colab": {
          "base_uri": "https://localhost:8080/"
        },
        "id": "4vGmSYHafD7h",
        "outputId": "14a0b01f-cc0d-4440-9042-79ca1f8bca4c"
      },
      "execution_count": 1,
      "outputs": [
        {
          "output_type": "stream",
          "name": "stdout",
          "text": [
            "Enter the numerator: 234\n",
            "Enter the denominator: 45\n",
            "The division result is: 5.2\n"
          ]
        }
      ]
    },
    {
      "cell_type": "markdown",
      "source": [
        "2. Can a try-except block be nested inside another try-except block? Explain with an\n",
        "example."
      ],
      "metadata": {
        "id": "ljCTPDsAfh69"
      }
    },
    {
      "cell_type": "markdown",
      "source": [
        "Yes, a try-except block can be nested inside another try-except block. This is known as nested exception handling, and it allows for more granular handling of exceptions in different parts of the code"
      ],
      "metadata": {
        "id": "42rOwkdzfyK3"
      }
    },
    {
      "cell_type": "code",
      "source": [
        "try:\n",
        "    outer_value = int(input(\"Enter an outer value: \"))\n",
        "    try:\n",
        "        inner_value = int(input(\"Enter an inner value: \"))\n",
        "        result = outer_value / inner_value\n",
        "    except ValueError:\n",
        "        print(\"Please enter a valid integer for the inner value.\")\n",
        "    except ZeroDivisionError:\n",
        "        print(\"Cannot divide by zero for the inner value.\")\n",
        "    else:\n",
        "        print(\"Inner division result:\", result)\n",
        "except ValueError:\n",
        "    print(\"Please enter a valid integer for the outer value.\")\n",
        "except ZeroDivisionError:\n",
        "    print(\"Cannot divide by zero for the outer value.\")\n",
        "else:\n",
        "    print(\"Outer division result:\", result)\n"
      ],
      "metadata": {
        "colab": {
          "base_uri": "https://localhost:8080/"
        },
        "id": "-GweqMmzfFeN",
        "outputId": "f6248af1-7ea2-429d-ddc4-ed8e7e23cdf0"
      },
      "execution_count": 2,
      "outputs": [
        {
          "output_type": "stream",
          "name": "stdout",
          "text": [
            "Enter an outer value: 56\n",
            "Enter an inner value: 6\n",
            "Inner division result: 9.333333333333334\n",
            "Outer division result: 9.333333333333334\n"
          ]
        }
      ]
    },
    {
      "cell_type": "code",
      "source": [],
      "metadata": {
        "id": "MLqKy1Vcf00M"
      },
      "execution_count": null,
      "outputs": []
    },
    {
      "cell_type": "markdown",
      "source": [
        "3. How can you create a custom exception class in Python? Provide an example that\n",
        "demonstrates its usage."
      ],
      "metadata": {
        "id": "wEVbQjG4gCWn"
      }
    },
    {
      "cell_type": "markdown",
      "source": [
        " I can create a custom exception class by defining a new class that inherits from the built-in Exception class or any of its subclasses. This allows you to create your own specialized exceptions that can be raised and caught like any other exception in Python."
      ],
      "metadata": {
        "id": "e7LVV9nBplyv"
      }
    },
    {
      "cell_type": "code",
      "source": [
        "class MyCustomException(Exception):\n",
        "    def __init__(self, message):\n",
        "        self.message = message\n",
        "\n",
        "    def __str__(self):\n",
        "        return f\"MyCustomException: {self.message}\"\n",
        "\n",
        "\n",
        "def divide_numbers(a, b):\n",
        "    if b == 0:\n",
        "        raise MyCustomException(\"Cannot divide by zero\")\n",
        "    return a / b\n",
        "\n",
        "\n",
        "try:\n",
        "    result = divide_numbers(10, 0)\n",
        "except MyCustomException as e:\n",
        "    print(e)\n"
      ],
      "metadata": {
        "colab": {
          "base_uri": "https://localhost:8080/"
        },
        "id": "RFySPs-1gDLp",
        "outputId": "6d9c9065-643a-43f7-fa65-f9d4793e668b"
      },
      "execution_count": 3,
      "outputs": [
        {
          "output_type": "stream",
          "name": "stdout",
          "text": [
            "MyCustomException: Cannot divide by zero\n"
          ]
        }
      ]
    },
    {
      "cell_type": "code",
      "source": [],
      "metadata": {
        "id": "iYQVXRcRpquU"
      },
      "execution_count": null,
      "outputs": []
    },
    {
      "cell_type": "markdown",
      "source": [
        "4. What are some common exceptions that are built-in to Python?"
      ],
      "metadata": {
        "id": "CNQVQgacqRVB"
      }
    },
    {
      "cell_type": "code",
      "source": [],
      "metadata": {
        "id": "APuLr9XeqSND"
      },
      "execution_count": null,
      "outputs": []
    },
    {
      "cell_type": "markdown",
      "source": [
        " some common built-in exceptions in Python:\n",
        "\n",
        "\n",
        "1.  TypeError\n",
        "2.  ValueError\n",
        "3.  NameError\n",
        "4.  IndexError\n",
        "5.  KeyError\n",
        "6.  FileNotFoundError\n",
        "7.  IOError:\n",
        "8.  ZeroDivisionError\n",
        "9.  AttributeError\n",
        "10. ImportError\n",
        "11. SyntaxError\n",
        "12. KeyboardInterrupt\n",
        "\n",
        "\n",
        "\n",
        "\n",
        "\n",
        "\n",
        "\n",
        "\n",
        "\n",
        "\n",
        "\n",
        "\n"
      ],
      "metadata": {
        "id": "p0Y0UVHQqmF7"
      }
    },
    {
      "cell_type": "code",
      "source": [],
      "metadata": {
        "id": "vaMq8RVprpBy"
      },
      "execution_count": null,
      "outputs": []
    },
    {
      "cell_type": "markdown",
      "source": [
        "5. What is logging in Python, and why is it important in software development?"
      ],
      "metadata": {
        "id": "TLuqQP5gsBu1"
      }
    },
    {
      "cell_type": "markdown",
      "source": [
        "Logging in Python refers to the process of recording events, messages, and other relevant information during the execution of a program. It involves creating log records that capture details such as timestamps, severity levels, and the content of the logged messages. The Python standard library provides a powerful logging module that facilitates logging functionality.\n",
        "\n",
        "Logging is important in software development for several reasons:\n",
        "\n",
        "\n",
        "1.   Debugging and Troubleshooting:Logging allows developers to gather information about the program's execution, helping them identify and fix issues\n",
        "2.   Monitoring and Analysis:In production environments, logging provides a means to monitor and analyze the application's performance and behavior.\n",
        "3.   Auditing and Compliance:Logging is essential for auditing purposes and compliance with regulatory requirements.\n",
        "4.   Application Understanding:Logging can serve as a documentation tool, capturing the flow and logic of the program's execution.\n",
        "5.   Error Reporting and Alerting:Logging enables the generation of error reports and alerts when critical issues occur.\n",
        "\n",
        "\n",
        "\n",
        "\n",
        "\n",
        "\n"
      ],
      "metadata": {
        "id": "pYCU7fxKvdc0"
      }
    },
    {
      "cell_type": "code",
      "source": [],
      "metadata": {
        "id": "_wwgIMKLyBsD"
      },
      "execution_count": null,
      "outputs": []
    },
    {
      "cell_type": "markdown",
      "source": [
        "6. Explain the purpose of log levels in Python logging and provide examples of when\n",
        "each log level would be appropriate."
      ],
      "metadata": {
        "id": "XjbtaFBlyIzu"
      }
    },
    {
      "cell_type": "code",
      "source": [],
      "metadata": {
        "id": "Mgf7TrrVyJjt"
      },
      "execution_count": null,
      "outputs": []
    },
    {
      "cell_type": "markdown",
      "source": [
        "Log levels in Python logging represent different levels of severity or importance for log messages. They allow developers to categorize and filter log records based on their significance. The Python logging module provides several predefined log levels, each serving a specific purpose.\n",
        "\n",
        "\n",
        "1.  DEBUG:\n",
        "import logging\n",
        "\n",
        "logging.basicConfig(level=logging.DEBUG)\n",
        "logging.debug(\"Variable x = %s\", x)\n",
        "\n",
        "2.  INFO:\n",
        "import logging\n",
        "\n",
        "logging.basicConfig(level=logging.INFO)\n",
        "logging.info(\"Starting the data processing job...\")\n",
        "\n",
        "\n",
        "3.  WARNING:\n",
        "import logging\n",
        "\n",
        "logging.basicConfig(level=logging.WARNING)\n",
        "logging.warning(\"The disk space is running low.\")\n",
        "\n",
        "4.  ERROR:\n",
        "import logging\n",
        "\n",
        "logging.basicConfig(level=logging.ERROR)\n",
        "logging.error(\"Failed to open the file: %s\", filename)\n",
        "\n",
        "\n",
        "\n",
        "5.  CRITICAL:\n",
        "import logging\n",
        "\n",
        "logging.basicConfig(level=logging.CRITICAL)\n",
        "logging.critical(\"Database connection failed. Terminating the program.\")\n",
        "\n",
        "\n",
        "\n",
        "\n",
        "\n",
        "\n",
        "\n"
      ],
      "metadata": {
        "id": "WMEoLnzzyZms"
      }
    },
    {
      "cell_type": "code",
      "source": [
        "7. What are log formatters in Python logging, and how can you customise the log\n",
        "message format using formatters?"
      ],
      "metadata": {
        "id": "om2xOlj02Ad8"
      },
      "execution_count": null,
      "outputs": []
    },
    {
      "cell_type": "code",
      "source": [
        "Ans:Log formatters in Python logging are responsible for defining the format of the log messages that are generated by the logging module.\n",
        " They specify the structure and content of the log records, including information such as timestamps,\n",
        " log levels, module names, and the actual log message.\n",
        " The Python logging module provides a flexible way to customize the log message format using formatters. The Formatter class is used to create log formatters.\n",
        " It allows developers to define a string format that includes placeholders for various attributes of the log records.\n",
        "\n",
        " By customizing the format string and utilizing the available placeholders, developers can create log messages that include relevant information,\n",
        "  making it easier to understand and analyze the logs during debugging, monitoring, or analysis of the application."
      ],
      "metadata": {
        "id": "2L21X0Z82Ka9"
      },
      "execution_count": null,
      "outputs": []
    },
    {
      "cell_type": "code",
      "source": [
        "8. How can you set up logging to capture log messages from multiple modules or\n",
        "classes in a Python application?"
      ],
      "metadata": {
        "id": "CsN_BU0S2KYp"
      },
      "execution_count": null,
      "outputs": []
    },
    {
      "cell_type": "code",
      "source": [
        "To capture log messages from multiple modules or classes in a Python application, you can follow these steps:\n",
        "1.Import the logging module:\n",
        "import logging\n",
        "\n",
        "2.Configure the logging:\n",
        "logging.basicConfig(level=logging.DEBUG, format='%(asctime)s - %(name)s - %(levelname)s - %(message)s')\n",
        "\n",
        "3.Get the logger:\n",
        "logger = logging.getLogger(__name__)\n",
        "\n",
        "4.Log messages:\n",
        "logger.debug(\"Debug message\")\n",
        "logger.info(\"Info message\")\n",
        "logger.warning(\"Warning message\")\n",
        "logger.error(\"Error message\")\n",
        "logger.critical(\"Critical message\")\n",
        "\n",
        "\n"
      ],
      "metadata": {
        "id": "mBFSy-MI2KVh"
      },
      "execution_count": null,
      "outputs": []
    },
    {
      "cell_type": "code",
      "source": [
        "9. What is the difference between the logging and print statements in Python? When\n",
        "should you use logging over print statements in a real-world application?"
      ],
      "metadata": {
        "id": "gcW0cLWK2KRd"
      },
      "execution_count": null,
      "outputs": []
    },
    {
      "cell_type": "code",
      "source": [
        "Ans:\n",
        "the key differences and when to use logging over print statements in a real-world application:\n",
        "\n",
        "i.Output Destination: The print statement outputs messages to the standard output (usually the console), whereas the logging module allows messages to be directed to various destinations, such as the console, log files, or even external services.\n",
        "\n",
        "ii.Flexibility and Configurability: The logging module provides a wide range of configuration options and features. You can customize log levels, format log messages, define multiple handlers, enable filtering, and more. With print, you have limited control over formatting and cannot easily change the behavior or destination of the output.\n",
        "\n",
        "iii.Log Levels: The logging module supports different log levels (e.g., DEBUG, INFO, WARNING, ERROR, CRITICAL), allowing you to categorize messages based on their severity. This makes it easier to filter and analyze log messages during debugging, monitoring, or troubleshooting. With print, all messages are typically displayed at the same level of importance.\n",
        "\n",
        "iv.Production-Readiness: In a real-world application, using the logging module is generally preferred over print statements. Logging provides a more professional and robust approach to capturing and managing log messages in production environments. It allows for proper error handling, log rotation, centralized logging, and integration with other tools and systems for log analysis and monitoring.\n",
        "\n",
        "v.Granular Control: With the logging module, you can selectively enable or disable log messages based on the log level configuration. This helps reduce noise and optimize performance by only logging essential information. With print, all statements are executed regardless of their importance, leading to unnecessary output in the production environment.\n",
        "\n",
        "vi.Error Reporting: The logging module allows you to log detailed error information, including stack traces and exception details, which can be crucial for troubleshooting and debugging. print statements, on the other hand, are limited to displaying simple text messages and may not provide sufficient information for identifying and resolving issues.i."
      ],
      "metadata": {
        "id": "XN23uR0u2KL9"
      },
      "execution_count": null,
      "outputs": []
    },
    {
      "cell_type": "code",
      "source": [
        "10. Write a Python program that logs a message to a file named \"app.log\" with the\n",
        "following requirements:\n",
        "● The log message should be \"Hello, World!\"\n",
        "● The log level should be set to \"INFO.\"\n",
        "● The log file should append new log entries without overwriting previous ones."
      ],
      "metadata": {
        "id": "bO-fTR-A2J9O"
      },
      "execution_count": null,
      "outputs": []
    },
    {
      "cell_type": "code",
      "source": [
        "import logging\n",
        "\n",
        "# Configure logging to a file\n",
        "logging.basicConfig(filename='app.log', level=logging.INFO, filemode='a', format='%(asctime)s - %(levelname)s - %(message)s')\n",
        "\n",
        "# Log the message\n",
        "logging.info(\"Hello, World!\")\n",
        "\n",
        "\n"
      ],
      "metadata": {
        "id": "3knIpDxw2Jup"
      },
      "execution_count": 4,
      "outputs": []
    },
    {
      "cell_type": "code",
      "source": [
        "11. Create a Python program that logs an error message to the console and a file named\n",
        "\"errors.log\" if an exception occurs during the program's execution. The error\n",
        "message should include the exception type and a timestamp."
      ],
      "metadata": {
        "id": "b-PDGlo_6nKb"
      },
      "execution_count": null,
      "outputs": []
    },
    {
      "cell_type": "code",
      "source": [
        "import logging\n",
        "import datetime\n",
        "\n",
        "# Configure logging to console and file\n",
        "logging.basicConfig(level=logging.ERROR, format='%(asctime)s - %(levelname)s - %(message)s')\n",
        "file_handler = logging.FileHandler('errors.log')\n",
        "file_handler.setLevel(logging.ERROR)\n",
        "file_handler.setFormatter(logging.Formatter('%(asctime)s - %(levelname)s - %(message)s'))\n",
        "\n",
        "logger = logging.getLogger()\n",
        "logger.addHandler(file_handler)\n",
        "\n",
        "try:\n",
        "    # Code that may raise an exception\n",
        "    1 / 0\n",
        "except Exception as e:\n",
        "    # Log the exception\n",
        "    timestamp = datetime.datetime.now().strftime('%Y-%m-%d %H:%M:%S')\n",
        "    error_message = f\"Exception: {type(e).__name__}, Timestamp: {timestamp}\"\n",
        "    logging.error(error_message)\n"
      ],
      "metadata": {
        "colab": {
          "base_uri": "https://localhost:8080/"
        },
        "id": "RANWjg0m60iN",
        "outputId": "b577aa78-adb3-4a7e-f5d0-a913fe201cc2"
      },
      "execution_count": 5,
      "outputs": [
        {
          "output_type": "stream",
          "name": "stderr",
          "text": [
            "ERROR:root:Exception: ZeroDivisionError, Timestamp: 2023-06-24 19:39:51\n"
          ]
        }
      ]
    },
    {
      "cell_type": "code",
      "source": [],
      "metadata": {
        "id": "dT6cQYyp639t"
      },
      "execution_count": null,
      "outputs": []
    }
  ]
}